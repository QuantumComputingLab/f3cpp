{
 "cells": [
  {
   "cell_type": "code",
   "execution_count": 2,
   "metadata": {},
   "outputs": [],
   "source": [
    "#import libraries\n",
    "import os,sys\n",
    "import subprocess\n",
    "import numpy as np\n",
    "import qiskit as qk\n",
    "from qiskit import Aer, IBMQ, execute\n",
    "from qiskit.tools import job_monitor\n",
    "import matplotlib.pyplot as plt"
   ]
  },
  {
   "cell_type": "code",
   "execution_count": 3,
   "metadata": {},
   "outputs": [],
   "source": [
    "#instantiate IBM quantum simulator\n",
    "qasm_sim = Aer.get_backend('qasm_simulator')"
   ]
  },
  {
   "cell_type": "code",
   "execution_count": 4,
   "metadata": {},
   "outputs": [],
   "source": [
    "#Define post-processing function to get magentization from quantum simulator results\n",
    "def average_magnetization(result: dict, shots: int):\n",
    "    \"\"\"Compute average magnetization from results of qk.execution.\n",
    "    Args:\n",
    "    - result (dict): a dictionary with the counts for each qubit, see qk.result.result module\n",
    "    - shots (int): number of trials\n",
    "    Return:\n",
    "    - average_mag (float)\n",
    "      \"\"\"\n",
    "    mag = 0\n",
    "    for spin_str, count in result.items():\n",
    "        spin_int = [1 - 2 * float(s) for s in spin_str]\n",
    "        mag += (sum(spin_int) / len(spin_int)) * count\n",
    "    average_mag = mag / shots\n",
    "    return average_mag"
   ]
  },
  {
   "cell_type": "code",
   "execution_count": 5,
   "metadata": {},
   "outputs": [],
   "source": [
    "#Define simulation parameters\n",
    "N = 5 #number of spins/qubits\n",
    "shots = 8192 #number of shots for circuit execution"
   ]
  },
  {
   "cell_type": "code",
   "execution_count": 6,
   "metadata": {},
   "outputs": [
    {
     "data": {
      "text/plain": [
       "CompletedProcess(args=['../../release/examples/f3c_time_evolution_TFXY', 'TFIM_adiabatic_nsteps1200.ini'], returncode=0)"
      ]
     },
     "execution_count": 6,
     "metadata": {},
     "output_type": "execute_result"
    }
   ],
   "source": [
    "#Generate compressed circuits corresponding to red curve\n",
    "num_steps = 1200\n",
    "dt = 0.05\n",
    "time_ax1 = []\n",
    "for step in range(num_steps):\n",
    "    time_ax1.append(dt*step)\n",
    "\n",
    "input_fname = f'TFIM_adiabatic_nsteps{num_steps}.ini'\n",
    "subprocess.run([\"../../release/examples/f3c_time_evolution_TFXY\", input_fname])"
   ]
  },
  {
   "cell_type": "code",
   "execution_count": 7,
   "metadata": {},
   "outputs": [],
   "source": [
    "#prepare compressed circuits to run on quantum backends\n",
    "q_regs = qk.QuantumRegister(N, 'q')\n",
    "c_regs = qk.ClassicalRegister(N, 'c')\n",
    "compressed_circuits = []\n",
    "for step in range(1,num_steps+1):\n",
    "    total_circ = qk.QuantumCircuit(q_regs, c_regs)\n",
    "    #get constant-depth evolution circuit\n",
    "    fname = f'TFIM_timestep{step}.qasm'\n",
    "    circ = qk.QuantumCircuit.from_qasm_file(fname)\n",
    "    total_circ.compose(circ, inplace=True)\n",
    "    total_circ.measure(q_regs, c_regs)\n",
    "    compressed_circuits.append(total_circ)"
   ]
  },
  {
   "cell_type": "code",
   "execution_count": 8,
   "metadata": {},
   "outputs": [
    {
     "name": "stdout",
     "output_type": "stream",
     "text": [
      "Job Status: job has successfully run\n"
     ]
    }
   ],
   "source": [
    "#Run compressed circuits on quantum simulator\n",
    "compressed_sim_job = execute(compressed_circuits, backend=qasm_sim, shots=shots)\n",
    "job_monitor(compressed_sim_job)\n",
    "compressed_sim_results = compressed_sim_job.result()"
   ]
  },
  {
   "cell_type": "code",
   "execution_count": 9,
   "metadata": {},
   "outputs": [],
   "source": [
    "#Post-processing for compressed circuit results from quantum simulator\n",
    "mags_nsteps1200 = []\n",
    "compressed_sim_counts = compressed_sim_results.get_counts()\n",
    "for t in range(num_steps):\n",
    "    mag = average_magnetization(compressed_sim_counts[t], shots)\n",
    "    mags_nsteps1200.append(mag)"
   ]
  },
  {
   "cell_type": "code",
   "execution_count": null,
   "metadata": {},
   "outputs": [],
   "source": []
  },
  {
   "cell_type": "code",
   "execution_count": 10,
   "metadata": {},
   "outputs": [
    {
     "data": {
      "text/plain": [
       "CompletedProcess(args=['../../release/examples/f3c_time_evolution_TFXY', 'TFIM_adiabatic_nsteps240.ini'], returncode=0)"
      ]
     },
     "execution_count": 10,
     "metadata": {},
     "output_type": "execute_result"
    }
   ],
   "source": [
    "#Generate compressed circuits corresponding to purple curve\n",
    "num_steps = 240\n",
    "dt = 0.25\n",
    "time_ax2 = []\n",
    "for step in range(num_steps):\n",
    "    time_ax2.append(dt*step)\n",
    "\n",
    "input_fname = f'TFIM_adiabatic_nsteps{num_steps}.ini'\n",
    "subprocess.run([\"../../release/examples/f3c_time_evolution_TFXY\", input_fname])"
   ]
  },
  {
   "cell_type": "code",
   "execution_count": 11,
   "metadata": {},
   "outputs": [],
   "source": [
    "#prepare compressed circuits to run on quantum backends\n",
    "q_regs = qk.QuantumRegister(N, 'q')\n",
    "c_regs = qk.ClassicalRegister(N, 'c')\n",
    "compressed_circuits = []\n",
    "for step in range(1,num_steps+1):\n",
    "    total_circ = qk.QuantumCircuit(q_regs, c_regs)\n",
    "    #get constant-depth evolution circuit\n",
    "    fname = f'TFIM_timestep{step}.qasm'\n",
    "    circ = qk.QuantumCircuit.from_qasm_file(fname)\n",
    "    total_circ.compose(circ, inplace=True)\n",
    "    total_circ.measure(q_regs, c_regs)\n",
    "    compressed_circuits.append(total_circ)"
   ]
  },
  {
   "cell_type": "code",
   "execution_count": 12,
   "metadata": {},
   "outputs": [
    {
     "name": "stdout",
     "output_type": "stream",
     "text": [
      "Job Status: job has successfully run\n"
     ]
    }
   ],
   "source": [
    "#Run compressed circuits on quantum simulator\n",
    "compressed_sim_job = execute(compressed_circuits, backend=qasm_sim, shots=shots)\n",
    "job_monitor(compressed_sim_job)\n",
    "compressed_sim_results = compressed_sim_job.result()"
   ]
  },
  {
   "cell_type": "code",
   "execution_count": 13,
   "metadata": {},
   "outputs": [],
   "source": [
    "#Post-processing for compressed circuit results from quantum simulator\n",
    "mags_nsteps240 = []\n",
    "compressed_sim_counts = compressed_sim_results.get_counts()\n",
    "for t in range(num_steps):\n",
    "    mag = average_magnetization(compressed_sim_counts[t], shots)\n",
    "    mags_nsteps240.append(mag)"
   ]
  },
  {
   "cell_type": "code",
   "execution_count": 14,
   "metadata": {},
   "outputs": [
    {
     "data": {
      "image/png": "[encoded data removed]",
      "text/plain": [
       "<matplotlib.figure.Figure at 0x7fdb9cce2940>"
      ]
     },
     "metadata": {},
     "output_type": "display_data"
    }
   ],
   "source": [
    "#Plot magnetizations\n",
    "plt.plot(time_ax1, mags_nsteps1200, color='r', label=\"num_steps=1200\")\n",
    "plt.plot(time_ax2, mags_nsteps240, color='purple', label=\"num_steps=240\")\n",
    "plt.hlines(0.4031775, -0.1, 40, linestyle=\"dashed\", color=\"k\")\n",
    "plt.xlim(0,40)\n",
    "plt.ylim(-0.1, 1.1)\n",
    "plt.xlabel('Simulation Time', fontsize=18)\n",
    "plt.ylabel('Average Magnetization', fontsize=18)\n",
    "plt.legend()\n",
    "plt.show()"
   ]
  },
  {
   "cell_type": "code",
   "execution_count": null,
   "metadata": {},
   "outputs": [],
   "source": []
  }
 ],
 "metadata": {
  "kernelspec": {
   "display_name": "Python 3",
   "language": "python",
   "name": "python3"
  },
  "language_info": {
   "codemirror_mode": {
    "name": "ipython",
    "version": 3
   },
   "file_extension": ".py",
   "mimetype": "text/x-python",
   "name": "python",
   "nbconvert_exporter": "python",
   "pygments_lexer": "ipython3",
   "version": "3.6.4"
  }
 },
 "nbformat": 4,
 "nbformat_minor": 4
}
